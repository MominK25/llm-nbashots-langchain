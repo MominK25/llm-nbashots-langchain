{
 "cells": [
  {
   "cell_type": "code",
   "execution_count": 5,
   "metadata": {},
   "outputs": [],
   "source": [
    "from dotenv import load_dotenv, find_dotenv\n",
    "import os\n",
    "\n",
    "load_dotenv(find_dotenv())\n",
    "\n",
    "from openai import OpenAI\n",
    "\n",
    "client = OpenAI(\n",
    "  organization=os.getenv('ORGANISATION_KEY'),\n",
    "  project=os.getenv('PROJECTID'),\n",
    ")"
   ]
  },
  {
   "cell_type": "code",
   "execution_count": 6,
   "metadata": {},
   "outputs": [
    {
     "name": "stderr",
     "output_type": "stream",
     "text": [
      "C:\\Users\\momin\\AppData\\Local\\Temp\\ipykernel_32224\\4038685577.py:2: DtypeWarning: Columns (2,3,8,9,10,11,12) have mixed types. Specify dtype option on import or set low_memory=False.\n",
      "  df = pd.read_csv('nbashots-quartered.csv')\n"
     ]
    },
    {
     "name": "stdout",
     "output_type": "stream",
     "text": [
      "         Unnamed: 0    X         ID              Player  Season  \\\n",
      "0               1.0  1.0  abdulma02  Mahmoud Abdul-Rauf  2001.0   \n",
      "1               2.0  2.0  abdulma02  Mahmoud Abdul-Rauf  2001.0   \n",
      "2               3.0  3.0  abdulma02  Mahmoud Abdul-Rauf  2001.0   \n",
      "3               4.0  4.0  abdulma02  Mahmoud Abdul-Rauf  2001.0   \n",
      "4               5.0  5.0  abdulma02  Mahmoud Abdul-Rauf  2001.0   \n",
      "...             ...  ...        ...                 ...     ...   \n",
      "1048570         NaN  NaN        NaN                 NaN     NaN   \n",
      "1048571         NaN  NaN        NaN                 NaN     NaN   \n",
      "1048572         NaN  NaN        NaN                 NaN     NaN   \n",
      "1048573         NaN  NaN        NaN                 NaN     NaN   \n",
      "1048574         NaN  NaN        NaN                 NaN     NaN   \n",
      "\n",
      "         Top.px. (Location)  Left.px. (location)      Date Team Opponent  \\\n",
      "0                     250.0                304.0  110600.0  VAN      ATL   \n",
      "1                     147.0                241.0  111800.0  VAN      DAL   \n",
      "2                     132.0                403.0  112400.0  VAN      DET   \n",
      "3                     177.0                129.0  112400.0  VAN      DET   \n",
      "4                      99.0                390.0  112400.0  VAN      DET   \n",
      "...                     ...                  ...       ...  ...      ...   \n",
      "1048570                 NaN                  NaN       NaN  NaN      NaN   \n",
      "1048571                 NaN                  NaN       NaN  NaN      NaN   \n",
      "1048572                 NaN                  NaN       NaN  NaN      NaN   \n",
      "1048573                 NaN                  NaN       NaN  NaN      NaN   \n",
      "1048574                 NaN                  NaN       NaN  NaN      NaN   \n",
      "\n",
      "        Location Quarter Game_Clock  Outcome (1 if made, 0 otherwise)  \\\n",
      "0           HOME       3    00:38.4                               0.0   \n",
      "1           HOME       2       9:22                               1.0   \n",
      "2           AWAY       3       6:42                               0.0   \n",
      "3           AWAY       3       2:42                               0.0   \n",
      "4           AWAY       3       2:18                               0.0   \n",
      "...          ...     ...        ...                               ...   \n",
      "1048570      NaN     NaN        NaN                               NaN   \n",
      "1048571      NaN     NaN        NaN                               NaN   \n",
      "1048572      NaN     NaN        NaN                               NaN   \n",
      "1048573      NaN     NaN        NaN                               NaN   \n",
      "1048574      NaN     NaN        NaN                               NaN   \n",
      "\n",
      "         Shot_Value  Shot_Distance.ft.  Team_Score  Opponent_Score  \n",
      "0               2.0               21.0        69.0            55.0  \n",
      "1               2.0               10.0        33.0            26.0  \n",
      "2               2.0               18.0        60.0            78.0  \n",
      "3               2.0               17.0        66.0            80.0  \n",
      "4               2.0               16.0        66.0            80.0  \n",
      "...             ...                ...         ...             ...  \n",
      "1048570         NaN                NaN         NaN             NaN  \n",
      "1048571         NaN                NaN         NaN             NaN  \n",
      "1048572         NaN                NaN         NaN             NaN  \n",
      "1048573         NaN                NaN         NaN             NaN  \n",
      "1048574         NaN                NaN         NaN             NaN  \n",
      "\n",
      "[1048575 rows x 18 columns]\n"
     ]
    }
   ],
   "source": [
    "import pandas as pd\n",
    "df = pd.read_csv('nbashots-quartered.csv')\n",
    "print(df)\n",
    "\n",
    "df.head()\n",
    "\n",
    "from langchain_experimental.agents.agent_toolkits import create_csv_agent\n",
    "\n",
    "from langchain_openai import ChatOpenAI"
   ]
  },
  {
   "cell_type": "code",
   "execution_count": 7,
   "metadata": {},
   "outputs": [
    {
     "name": "stderr",
     "output_type": "stream",
     "text": [
      "C:\\Users\\momin\\AppData\\Local\\Packages\\PythonSoftwareFoundation.Python.3.11_qbz5n2kfra8p0\\LocalCache\\local-packages\\Python311\\site-packages\\langchain_experimental\\agents\\agent_toolkits\\csv\\base.py:57: DtypeWarning: Columns (2,3,8,9,10,11,12) have mixed types. Specify dtype option on import or set low_memory=False.\n",
      "  df = pd.read_csv(path, **_kwargs)\n"
     ]
    }
   ],
   "source": [
    "llm = ChatOpenAI(temperature=0.5)\n",
    "agent_executor = create_csv_agent(llm, 'nbashots-quartered.csv', verbose=True)\n",
    "\n",
    "#df['id'].sum()"
   ]
  },
  {
   "cell_type": "code",
   "execution_count": 8,
   "metadata": {},
   "outputs": [
    {
     "name": "stdout",
     "output_type": "stream",
     "text": [
      "\n",
      "\n",
      "\u001b[1m> Entering new AgentExecutor chain...\u001b[0m\n",
      "\u001b[32;1m\u001b[1;3mThought: I need to count the number of shots each player took to find out who took the most shots.\n",
      "Action: python_repl_ast\n",
      "Action Input: df['Player'].value_counts()\u001b[0m\u001b[36;1m\u001b[1;3mPlayer\n",
      "Ray Allen              16545\n",
      "LaMarcus Aldridge      15144\n",
      "Shareef Abdur-Rahim     6820\n",
      "Arron Afflalo           6811\n",
      "Rafer Alston            6766\n",
      "Ryan Anderson           6500\n",
      "Tony Allen              6006\n",
      "Derek Anderson          4265\n",
      "Al-Farouq Aminu         4104\n",
      "Chris Andersen          2714\n",
      "Steven Adams            2601\n",
      "Malik Allen             2458\n",
      "Alan Anderson           2172\n",
      "Kenny Anderson          1995\n",
      "Lavoy Allen             1833\n",
      "Courtney Alexander      1565\n",
      "Lou Amundson            1419\n",
      "Quincy Acy              1294\n",
      "James Anderson          1285\n",
      "Alexis Ajinca           1285\n",
      "Kyle Anderson           1135\n",
      "John Amaechi             887\n",
      "Justin Anderson          855\n",
      "Cole Aldrich             845\n",
      "Alex Abrines             669\n",
      "Jeff Adrien              556\n",
      "David Andersen           461\n",
      "Jarrett Allen            396\n",
      "Bam Adebayo              350\n",
      "Tariq Abdul-Wahad        345\n",
      "Joe Alexander            251\n",
      "Mahmoud Abdul-Rauf       245\n",
      "Maurice Ager             197\n",
      "Hassan Adams             150\n",
      "Nick Anderson            132\n",
      "Morris Almond            113\n",
      "Cory Alexander           104\n",
      "Jordan Adams              95\n",
      "Alex Acker                92\n",
      "Blake Ahearn              80\n",
      "Furkan Aldemir            78\n",
      "Victor Alexander          52\n",
      "Solomon Alabi             51\n",
      "Kadeem Allen              22\n",
      "Cliff Alexander           10\n",
      "Lance Allred               4\n",
      "Josh Akognon               4\n",
      "Antonio Anderson           3\n",
      "Name: count, dtype: int64\u001b[0m\u001b[32;1m\u001b[1;3mI need to find the player with the highest count of shots.\n",
      "Action: python_repl_ast\n",
      "Action Input: df['Player'].value_counts().idxmax()\u001b[0m\u001b[36;1m\u001b[1;3mRay Allen\u001b[0m\u001b[32;1m\u001b[1;3mI now know the final answer\n",
      "Final Answer: Ray Allen took the most shots.\u001b[0m\n",
      "\n",
      "\u001b[1m> Finished chain.\u001b[0m\n"
     ]
    },
    {
     "data": {
      "text/plain": [
       "{'input': 'Which player took the most shots',\n",
       " 'output': 'Ray Allen took the most shots.'}"
      ]
     },
     "execution_count": 8,
     "metadata": {},
     "output_type": "execute_result"
    }
   ],
   "source": [
    "agent_executor.invoke('Which player took the most shots')"
   ]
  },
  {
   "cell_type": "code",
   "execution_count": 9,
   "metadata": {},
   "outputs": [
    {
     "name": "stdout",
     "output_type": "stream",
     "text": [
      "\n",
      "\n",
      "\u001b[1m> Entering new AgentExecutor chain...\u001b[0m\n",
      "\u001b[32;1m\u001b[1;3mThought: We need to calculate the length of each player's name to find the one with the least letters.\n",
      "Action: python_repl_ast\n",
      "Action Input: df['Player'].apply(len).idxmin()\u001b[0m\u001b[36;1m\u001b[1;3m834074\u001b[0m\u001b[32;1m\u001b[1;3mPlayer with index 834074 has the least letters in their name.\n",
      "Final Answer: Player with index 834074\u001b[0m\n",
      "\n",
      "\u001b[1m> Finished chain.\u001b[0m\n"
     ]
    },
    {
     "data": {
      "text/plain": [
       "{'input': 'which player has the least letters in their name',\n",
       " 'output': 'Player with index 834074'}"
      ]
     },
     "execution_count": 9,
     "metadata": {},
     "output_type": "execute_result"
    }
   ],
   "source": [
    "agent_executor.invoke('which player has the least letters in their name')"
   ]
  },
  {
   "cell_type": "code",
   "execution_count": 10,
   "metadata": {},
   "outputs": [
    {
     "name": "stdout",
     "output_type": "stream",
     "text": [
      "\n",
      "\n",
      "\u001b[1m> Entering new AgentExecutor chain...\u001b[0m\n",
      "\u001b[32;1m\u001b[1;3mThought: The player's name is located in the 'Player' column of the dataframe. We need to extract this information.\n",
      "Action: python_repl_ast\n",
      "Action Input: df['Player'].iloc[0]\u001b[0m\u001b[36;1m\u001b[1;3mMahmoudAbdul-Rauf\u001b[0m\u001b[32;1m\u001b[1;3mI now know the final answer\n",
      "Final Answer: Mahmoud Abdul-Rauf\u001b[0m\n",
      "\n",
      "\u001b[1m> Finished chain.\u001b[0m\n"
     ]
    },
    {
     "data": {
      "text/plain": [
       "{'input': 'what is that players name', 'output': 'Mahmoud Abdul-Rauf'}"
      ]
     },
     "execution_count": 10,
     "metadata": {},
     "output_type": "execute_result"
    }
   ],
   "source": [
    "agent_executor.invoke('what is that players name')"
   ]
  }
 ],
 "metadata": {
  "kernelspec": {
   "display_name": "Python 3",
   "language": "python",
   "name": "python3"
  },
  "language_info": {
   "codemirror_mode": {
    "name": "ipython",
    "version": 3
   },
   "file_extension": ".py",
   "mimetype": "text/x-python",
   "name": "python",
   "nbconvert_exporter": "python",
   "pygments_lexer": "ipython3",
   "version": "3.11.9"
  }
 },
 "nbformat": 4,
 "nbformat_minor": 2
}
